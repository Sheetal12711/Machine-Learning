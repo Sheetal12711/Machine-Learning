{
  "nbformat": 4,
  "nbformat_minor": 0,
  "metadata": {
    "colab": {
      "name": "PCA.ipynb",
      "provenance": [],
      "authorship_tag": "ABX9TyMCpfND5I0a1RjkfTMu7zz/",
      "include_colab_link": true
    },
    "kernelspec": {
      "name": "python3",
      "display_name": "Python 3"
    },
    "language_info": {
      "name": "python"
    }
  },
  "cells": [
    {
      "cell_type": "markdown",
      "metadata": {
        "id": "view-in-github",
        "colab_type": "text"
      },
      "source": [
        "<a href=\"https://colab.research.google.com/github/Sheetal12711/Machine-Learning/blob/main/PCA.ipynb\" target=\"_parent\"><img src=\"https://colab.research.google.com/assets/colab-badge.svg\" alt=\"Open In Colab\"/></a>"
      ]
    },
    {
      "cell_type": "code",
      "execution_count": 1,
      "metadata": {
        "colab": {
          "base_uri": "https://localhost:8080/"
        },
        "id": "pWkm-xMrXAAu",
        "outputId": "27c4f852-8e94-4350-bfb5-a33b361689cc"
      },
      "outputs": [
        {
          "output_type": "stream",
          "name": "stdout",
          "text": [
            "[[5.1 3.5 1.4 0.2]\n",
            " [4.9 3.  1.4 0.2]\n",
            " [4.7 3.2 1.3 0.2]\n",
            " [4.6 3.1 1.5 0.2]\n",
            " [5.  3.6 1.4 0.2]\n",
            " [5.4 3.9 1.7 0.4]\n",
            " [4.6 3.4 1.4 0.3]\n",
            " [5.  3.4 1.5 0.2]\n",
            " [4.4 2.9 1.4 0.2]\n",
            " [4.9 3.1 1.5 0.1]\n",
            " [5.4 3.7 1.5 0.2]\n",
            " [4.8 3.4 1.6 0.2]\n",
            " [4.8 3.  1.4 0.1]\n",
            " [4.3 3.  1.1 0.1]\n",
            " [5.8 4.  1.2 0.2]\n",
            " [5.7 4.4 1.5 0.4]\n",
            " [5.4 3.9 1.3 0.4]\n",
            " [5.1 3.5 1.4 0.3]\n",
            " [5.7 3.8 1.7 0.3]\n",
            " [5.1 3.8 1.5 0.3]]\n"
          ]
        }
      ],
      "source": [
        "#We have the dataset given below. It consists of items with 4 features. First, we will convert the dataset into a NumPy array.\n",
        "import numpy as np\n",
        "data = [[5.1, 3.5, 1.4, 0.2],\n",
        "        [4.9, 3.0, 1.4, 0.2],\n",
        "        [4.7, 3.2, 1.3, 0.2],\n",
        "        [4.6, 3.1, 1.5, 0.2],\n",
        "        [5.0, 3.6, 1.4, 0.2],\n",
        "        [5.4, 3.9, 1.7, 0.4],\n",
        "        [4.6, 3.4, 1.4, 0.3],\n",
        "        [5.0, 3.4, 1.5, 0.2],\n",
        "        [4.4, 2.9, 1.4, 0.2],\n",
        "        [4.9, 3.1, 1.5, 0.1],\n",
        "        [5.4, 3.7, 1.5, 0.2],\n",
        "        [4.8, 3.4, 1.6, 0.2],\n",
        "        [4.8, 3.0, 1.4, 0.1],\n",
        "        [4.3, 3.0, 1.1, 0.1],\n",
        "        [5.8, 4.0, 1.2, 0.2],\n",
        "        [5.7, 4.4, 1.5, 0.4],\n",
        "        [5.4, 3.9, 1.3, 0.4],\n",
        "        [5.1, 3.5, 1.4, 0.3],\n",
        "        [5.7, 3.8, 1.7, 0.3],\n",
        "        [5.1, 3.8, 1.5, 0.3]]\n",
        "odata = np.copy(np.array(data))\n",
        "print(np.array(data))"
      ]
    },
    {
      "cell_type": "code",
      "source": [
        "#Subtract the mean\n",
        "for j in range(len(data[0])):\n",
        "    sum = 0\n",
        "    for i in range(len(data)):\n",
        "        sum += data[i][j]\n",
        "    for i in range(len(data)):\n",
        "        data[i][j] -= sum/len(data)\n",
        "print(np.array(data))"
      ],
      "metadata": {
        "colab": {
          "base_uri": "https://localhost:8080/"
        },
        "id": "svlyFBSAXWib",
        "outputId": "068debd3-6831-4c86-d226-0ad1a3b86ca8"
      },
      "execution_count": 2,
      "outputs": [
        {
          "output_type": "stream",
          "name": "stdout",
          "text": [
            "[[ 0.065  0.02  -0.035 -0.035]\n",
            " [-0.135 -0.48  -0.035 -0.035]\n",
            " [-0.335 -0.28  -0.135 -0.035]\n",
            " [-0.435 -0.38   0.065 -0.035]\n",
            " [-0.035  0.12  -0.035 -0.035]\n",
            " [ 0.365  0.42   0.265  0.165]\n",
            " [-0.435 -0.08  -0.035  0.065]\n",
            " [-0.035 -0.08   0.065 -0.035]\n",
            " [-0.635 -0.58  -0.035 -0.035]\n",
            " [-0.135 -0.38   0.065 -0.135]\n",
            " [ 0.365  0.22   0.065 -0.035]\n",
            " [-0.235 -0.08   0.165 -0.035]\n",
            " [-0.235 -0.48  -0.035 -0.135]\n",
            " [-0.735 -0.48  -0.335 -0.135]\n",
            " [ 0.765  0.52  -0.235 -0.035]\n",
            " [ 0.665  0.92   0.065  0.165]\n",
            " [ 0.365  0.42  -0.135  0.165]\n",
            " [ 0.065  0.02  -0.035  0.065]\n",
            " [ 0.665  0.32   0.265  0.065]\n",
            " [ 0.065  0.32   0.065  0.065]]\n"
          ]
        }
      ]
    },
    {
      "cell_type": "code",
      "source": [
        "#Covariance matrix\n",
        "data = np.array(data)\n",
        "covdata = np.cov(data.T)\n",
        "print(covdata)"
      ],
      "metadata": {
        "colab": {
          "base_uri": "https://localhost:8080/"
        },
        "id": "zKxYH7q8Xb4q",
        "outputId": "85ea8ee6-cdcf-4c5c-a559-ceaccf0bd6d6"
      },
      "execution_count": 3,
      "outputs": [
        {
          "output_type": "stream",
          "name": "stdout",
          "text": [
            "[[0.18239474 0.15231579 0.01976316 0.02239474]\n",
            " [0.15231579 0.16589474 0.01547368 0.02863158]\n",
            " [0.01976316 0.01547368 0.02134211 0.00502632]\n",
            " [0.02239474 0.02863158 0.00502632 0.00871053]]\n"
          ]
        }
      ]
    },
    {
      "cell_type": "code",
      "source": [
        "#Eigen values and eigen vectors\n",
        "values, vectors = np.linalg.eig(covdata)\n",
        "print(values)\n",
        "print()\n",
        "print(vectors)"
      ],
      "metadata": {
        "colab": {
          "base_uri": "https://localhost:8080/"
        },
        "id": "tyevf_jSXjIS",
        "outputId": "3f5eaa2f-8aac-48f5-e4dd-bccc148b6d68"
      },
      "execution_count": 4,
      "outputs": [
        {
          "output_type": "stream",
          "name": "stdout",
          "text": [
            "[0.33276835 0.002671   0.02383619 0.01906657]\n",
            "\n",
            "[[ 0.71816179  0.131601    0.61745716 -0.2926969 ]\n",
            " [ 0.68211748 -0.27163784 -0.65996887  0.15927874]\n",
            " [ 0.08126075 -0.16686365  0.37215116  0.90942659]\n",
            " [ 0.1111579   0.93864295 -0.21140307  0.24880129]]\n"
          ]
        }
      ]
    },
    {
      "cell_type": "code",
      "source": [
        "#Choosing components and forming a feature vector\n",
        "var = []\n",
        "for i in range(len(values)):\n",
        "    var.append(values[i] / np.sum(values))\n",
        "print(var)"
      ],
      "metadata": {
        "colab": {
          "base_uri": "https://localhost:8080/"
        },
        "id": "pX7yeZQlXqy6",
        "outputId": "ed86c783-faed-440a-d0cf-3a849d7de8fc"
      },
      "execution_count": 5,
      "outputs": [
        {
          "output_type": "stream",
          "name": "stdout",
          "text": [
            "[0.8795435298377663, 0.007059744713736781, 0.06300167349739227, 0.0503950519511047]\n"
          ]
        }
      ]
    },
    {
      "cell_type": "code",
      "source": [
        "k = 2\n",
        "s = np.argsort(np.array(var)) \n",
        "s = s[::-1]\n",
        "s = s[0:k]\n",
        "s = sorted(s)\n",
        "ndata = []\n",
        "odata = np.array(odata).T\n",
        "for i in s:\n",
        "    ndata.append(odata[i])\n",
        "print(\"New data:\")\n",
        "print(np.array(ndata).T)"
      ],
      "metadata": {
        "colab": {
          "base_uri": "https://localhost:8080/"
        },
        "id": "32Q-fJ9fXsWC",
        "outputId": "c2bd746d-9b26-4f4b-deff-4e74da2ff1fc"
      },
      "execution_count": 6,
      "outputs": [
        {
          "output_type": "stream",
          "name": "stdout",
          "text": [
            "New data:\n",
            "[[5.1 1.4]\n",
            " [4.9 1.4]\n",
            " [4.7 1.3]\n",
            " [4.6 1.5]\n",
            " [5.  1.4]\n",
            " [5.4 1.7]\n",
            " [4.6 1.4]\n",
            " [5.  1.5]\n",
            " [4.4 1.4]\n",
            " [4.9 1.5]\n",
            " [5.4 1.5]\n",
            " [4.8 1.6]\n",
            " [4.8 1.4]\n",
            " [4.3 1.1]\n",
            " [5.8 1.2]\n",
            " [5.7 1.5]\n",
            " [5.4 1.3]\n",
            " [5.1 1.4]\n",
            " [5.7 1.7]\n",
            " [5.1 1.5]]\n"
          ]
        }
      ]
    },
    {
      "cell_type": "code",
      "source": [
        ""
      ],
      "metadata": {
        "id": "3iJZPt9RXySr"
      },
      "execution_count": null,
      "outputs": []
    }
  ]
}